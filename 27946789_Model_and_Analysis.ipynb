{
 "cells": [
  {
   "cell_type": "code",
   "execution_count": 6,
   "metadata": {},
   "outputs": [
    {
     "data": {
      "text/html": [
       "<div>\n",
       "<style scoped>\n",
       "    .dataframe tbody tr th:only-of-type {\n",
       "        vertical-align: middle;\n",
       "    }\n",
       "\n",
       "    .dataframe tbody tr th {\n",
       "        vertical-align: top;\n",
       "    }\n",
       "\n",
       "    .dataframe thead th {\n",
       "        text-align: right;\n",
       "    }\n",
       "</style>\n",
       "<table border=\"1\" class=\"dataframe\">\n",
       "  <thead>\n",
       "    <tr style=\"text-align: right;\">\n",
       "      <th></th>\n",
       "      <th>STATEID</th>\n",
       "      <th>pop</th>\n",
       "      <th>rent_mean</th>\n",
       "      <th>hi_mean</th>\n",
       "      <th>hc_mortgage_mean</th>\n",
       "      <th>hc_mean</th>\n",
       "      <th>debt</th>\n",
       "      <th>hs_degree</th>\n",
       "      <th>mean_age</th>\n",
       "      <th>famliyType</th>\n",
       "    </tr>\n",
       "  </thead>\n",
       "  <tbody>\n",
       "    <tr>\n",
       "      <th>0</th>\n",
       "      <td>2.0</td>\n",
       "      <td>12.013847</td>\n",
       "      <td>30.545606</td>\n",
       "      <td>44.844137</td>\n",
       "      <td>46.603431</td>\n",
       "      <td>47.800610</td>\n",
       "      <td>73.920268</td>\n",
       "      <td>77.514677</td>\n",
       "      <td>28.812918</td>\n",
       "      <td>2</td>\n",
       "    </tr>\n",
       "    <tr>\n",
       "      <th>1</th>\n",
       "      <td>2.0</td>\n",
       "      <td>9.674543</td>\n",
       "      <td>56.802675</td>\n",
       "      <td>58.111718</td>\n",
       "      <td>51.925350</td>\n",
       "      <td>40.006210</td>\n",
       "      <td>76.951515</td>\n",
       "      <td>92.255478</td>\n",
       "      <td>32.210255</td>\n",
       "      <td>2</td>\n",
       "    </tr>\n",
       "    <tr>\n",
       "      <th>2</th>\n",
       "      <td>2.0</td>\n",
       "      <td>4.990690</td>\n",
       "      <td>19.243478</td>\n",
       "      <td>26.365156</td>\n",
       "      <td>47.176423</td>\n",
       "      <td>26.616939</td>\n",
       "      <td>79.571534</td>\n",
       "      <td>85.944543</td>\n",
       "      <td>29.366674</td>\n",
       "      <td>2</td>\n",
       "    </tr>\n",
       "    <tr>\n",
       "      <th>3</th>\n",
       "      <td>2.0</td>\n",
       "      <td>15.585744</td>\n",
       "      <td>30.722129</td>\n",
       "      <td>30.898879</td>\n",
       "      <td>37.800236</td>\n",
       "      <td>38.152149</td>\n",
       "      <td>68.183848</td>\n",
       "      <td>93.907904</td>\n",
       "      <td>26.143374</td>\n",
       "      <td>2</td>\n",
       "    </tr>\n",
       "    <tr>\n",
       "      <th>4</th>\n",
       "      <td>2.0</td>\n",
       "      <td>14.261362</td>\n",
       "      <td>30.145074</td>\n",
       "      <td>33.231367</td>\n",
       "      <td>41.600359</td>\n",
       "      <td>37.297724</td>\n",
       "      <td>75.908907</td>\n",
       "      <td>84.197767</td>\n",
       "      <td>20.712566</td>\n",
       "      <td>2</td>\n",
       "    </tr>\n",
       "    <tr>\n",
       "      <th>5</th>\n",
       "      <td>2.0</td>\n",
       "      <td>15.354961</td>\n",
       "      <td>21.360270</td>\n",
       "      <td>25.626467</td>\n",
       "      <td>36.936228</td>\n",
       "      <td>27.795050</td>\n",
       "      <td>62.907463</td>\n",
       "      <td>81.755163</td>\n",
       "      <td>27.433796</td>\n",
       "      <td>2</td>\n",
       "    </tr>\n",
       "    <tr>\n",
       "      <th>6</th>\n",
       "      <td>2.0</td>\n",
       "      <td>19.519551</td>\n",
       "      <td>23.472919</td>\n",
       "      <td>25.841152</td>\n",
       "      <td>35.324981</td>\n",
       "      <td>41.174742</td>\n",
       "      <td>70.478831</td>\n",
       "      <td>83.821679</td>\n",
       "      <td>20.851750</td>\n",
       "      <td>2</td>\n",
       "    </tr>\n",
       "    <tr>\n",
       "      <th>7</th>\n",
       "      <td>2.0</td>\n",
       "      <td>14.326926</td>\n",
       "      <td>17.660212</td>\n",
       "      <td>19.887064</td>\n",
       "      <td>38.670365</td>\n",
       "      <td>30.916515</td>\n",
       "      <td>41.639926</td>\n",
       "      <td>73.371160</td>\n",
       "      <td>20.445816</td>\n",
       "      <td>1</td>\n",
       "    </tr>\n",
       "    <tr>\n",
       "      <th>8</th>\n",
       "      <td>2.0</td>\n",
       "      <td>8.358029</td>\n",
       "      <td>20.526926</td>\n",
       "      <td>28.002250</td>\n",
       "      <td>33.522672</td>\n",
       "      <td>35.244283</td>\n",
       "      <td>77.415704</td>\n",
       "      <td>80.600692</td>\n",
       "      <td>37.428846</td>\n",
       "      <td>2</td>\n",
       "    </tr>\n",
       "    <tr>\n",
       "      <th>9</th>\n",
       "      <td>2.0</td>\n",
       "      <td>8.858934</td>\n",
       "      <td>23.686390</td>\n",
       "      <td>22.501569</td>\n",
       "      <td>30.662648</td>\n",
       "      <td>44.649020</td>\n",
       "      <td>64.175416</td>\n",
       "      <td>85.345686</td>\n",
       "      <td>37.035529</td>\n",
       "      <td>2</td>\n",
       "    </tr>\n",
       "  </tbody>\n",
       "</table>\n",
       "</div>"
      ],
      "text/plain": [
       "   STATEID        pop  rent_mean    hi_mean  hc_mortgage_mean    hc_mean  \\\n",
       "0      2.0  12.013847  30.545606  44.844137         46.603431  47.800610   \n",
       "1      2.0   9.674543  56.802675  58.111718         51.925350  40.006210   \n",
       "2      2.0   4.990690  19.243478  26.365156         47.176423  26.616939   \n",
       "3      2.0  15.585744  30.722129  30.898879         37.800236  38.152149   \n",
       "4      2.0  14.261362  30.145074  33.231367         41.600359  37.297724   \n",
       "5      2.0  15.354961  21.360270  25.626467         36.936228  27.795050   \n",
       "6      2.0  19.519551  23.472919  25.841152         35.324981  41.174742   \n",
       "7      2.0  14.326926  17.660212  19.887064         38.670365  30.916515   \n",
       "8      2.0   8.358029  20.526926  28.002250         33.522672  35.244283   \n",
       "9      2.0   8.858934  23.686390  22.501569         30.662648  44.649020   \n",
       "\n",
       "        debt  hs_degree   mean_age  famliyType  \n",
       "0  73.920268  77.514677  28.812918           2  \n",
       "1  76.951515  92.255478  32.210255           2  \n",
       "2  79.571534  85.944543  29.366674           2  \n",
       "3  68.183848  93.907904  26.143374           2  \n",
       "4  75.908907  84.197767  20.712566           2  \n",
       "5  62.907463  81.755163  27.433796           2  \n",
       "6  70.478831  83.821679  20.851750           2  \n",
       "7  41.639926  73.371160  20.445816           1  \n",
       "8  77.415704  80.600692  37.428846           2  \n",
       "9  64.175416  85.345686  37.035529           2  "
      ]
     },
     "execution_count": 6,
     "metadata": {},
     "output_type": "execute_result"
    }
   ],
   "source": [
    "import pandas as pd\n",
    "import matplotlib.pyplot as plt\n",
    "import numpy as np\n",
    "import random \n",
    "from time import time\n",
    "from sklearn import svm\n",
    "from sklearn.neural_network import MLPClassifier\n",
    "from sklearn.preprocessing import StandardScaler\n",
    "\n",
    "formatData =  pd.read_csv(\"formatData.csv\")\n",
    "formatData.head(10)"
   ]
  },
  {
   "cell_type": "code",
   "execution_count": 8,
   "metadata": {},
   "outputs": [],
   "source": [
    "def createTrainingSet():\n",
    "    X = []\n",
    "    for i in formatData.index:\n",
    "        X.append(list(formatData.loc[i])[1:-1])\n",
    "    y = list(formatData[\"famliyType\"])\n",
    "    return X, y\n",
    "X, y = createTrainingSet()\n",
    "\n",
    "def genR():\n",
    "    res = []\n",
    "    while len(res) < len(X)/10:\n",
    "        tempIndex=random.randint(0,len(X)-1)\n",
    "        if tempIndex not in res:\n",
    "            res.append(tempIndex)\n",
    "    return res\n",
    "\n",
    "#testSetIndex = genR()\n",
    "\n",
    "def CreateTestSet(testSetIndex,X,y):\n",
    "    testX = []\n",
    "    testy = []\n",
    "    for i in testSetIndex:\n",
    "        testX.append(X[i])\n",
    "        testy.append(y[i])\n",
    "    testX = np.array(testX)\n",
    "    testy = np.array(testy)\n",
    "    return testX, testy\n",
    "\n",
    "#testX, testy = CreateTestSet(testSetIndex,X,y)\n",
    "\n",
    "def CreateTraintSet(testSetIndex,X,y):\n",
    "    trainX = []\n",
    "    trainy = []\n",
    "    for index, value in enumerate(X):\n",
    "        if index not in testSetIndex:\n",
    "            trainX.append(value)\n",
    "            trainy.append(y[index])\n",
    "\n",
    "    trainX = np.array(trainX)\n",
    "    trainy = np.array(trainy)\n",
    "    return trainX, trainy\n",
    "\n",
    "\n",
    "#trainX, trainy = CreateTraintSet(testSetIndex,X,y)\n",
    "\n",
    "def modelSVM(trainX,trainy):\n",
    "    clf = svm.SVC()\n",
    "    clf.fit(trainX,trainy)\n",
    "    return clf\n",
    "\n",
    "def modelMLP(trainX,trainy,numHidden):\n",
    "    myMlp = MLPClassifier(solver='lbfgs', alpha=1e-5,hidden_layer_sizes=(numHidden,2), random_state=1)\n",
    "    myMlp.fit(trainX,trainy)\n",
    "    return myMlp\n",
    "    \n",
    "\n",
    "def trySVM(trainX,trainy,testX,testy):\n",
    "    res = []\n",
    "    clf = modelSVM(trainX,trainy)\n",
    "    testRes = clf.predict(testX)\n",
    "    for i in range(len(testRes)):\n",
    "        if testRes[i] != testy[i]:\n",
    "            res.append(i)\n",
    "    rightRate = 1 - len(res)/len(testy)\n",
    "    return rightRate\n",
    "\n",
    "def tryMLP(trainX,trainy,testX,testy, numHid):\n",
    "    res = [] \n",
    "    myMlp = modelMLP(trainX,trainy,numHid)\n",
    "    testRes = myMlp.predict(testX)\n",
    "    for i in range(len(testRes)):\n",
    "        if testRes[i] != testy[i]:\n",
    "            res.append(i)\n",
    "    rightRate = 1 - len(res)/len(testy)\n",
    "    return rightRate"
   ]
  },
  {
   "cell_type": "code",
   "execution_count": 5,
   "metadata": {},
   "outputs": [
    {
     "data": {
      "image/png": "[encoded data removed]",
      "text/plain": [
       "<matplotlib.figure.Figure at 0x1a158ec0f0>"
      ]
     },
     "metadata": {},
     "output_type": "display_data"
    },
    {
     "data": {
      "text/plain": [
       "11"
      ]
     },
     "execution_count": 5,
     "metadata": {},
     "output_type": "execute_result"
    }
   ],
   "source": [
    "def showTheBestMLP():\n",
    "    testSetIndex = genR()\n",
    "    X, y = createTrainingSet()\n",
    "    testX, testy = CreateTestSet(testSetIndex,X,y)\n",
    "    trainX, trainy = CreateTraintSet(testSetIndex,X,y)\n",
    "    rateList = []\n",
    "    suit = 0\n",
    "    for i in range(30):\n",
    "        res = tryMLP(trainX,trainy,testX,testy, i+1)\n",
    "        rateList.append(res)\n",
    "        if max(rateList) == res:\n",
    "            suit = i\n",
    "    plt.plot(list(range(30)), rateList)\n",
    "    plt.xlabel('Number of neuron in hidden layer')\n",
    "    plt.ylabel('Accuracy')\n",
    "    plt.show()\n",
    "    return suit+1\n",
    "showTheBestMLP()"
   ]
  },
  {
   "cell_type": "code",
   "execution_count": 8,
   "metadata": {},
   "outputs": [],
   "source": [
    "def compare():\n",
    "    SVM = []\n",
    "    MLP = []\n",
    "    X, y = createTrainingSet()\n",
    "    for i in range(10):        \n",
    "        testSetIndex = genR()\n",
    "        testX, testy = CreateTestSet(testSetIndex,X,y)\n",
    "        trainX, trainy = CreateTraintSet(testSetIndex,X,y)\n",
    "        SVM.append(trySVM(trainX,trainy,testX,testy))\n",
    "        MLP.append(tryMLP(trainX,trainy,testX,testy,8))\n",
    "    return SVM, MLP\n",
    "\n",
    "SVM, MLP = compare()"
   ]
  },
  {
   "cell_type": "code",
   "execution_count": 9,
   "metadata": {},
   "outputs": [
    {
     "data": {
      "image/png": "[encoded data removed]",
      "text/plain": [
       "<matplotlib.figure.Figure at 0x1a158a87b8>"
      ]
     },
     "metadata": {},
     "output_type": "display_data"
    }
   ],
   "source": [
    "def pltPlot(SVM, MLP):\n",
    "\n",
    "    plt.plot(list(range(10)), SVM, 'ro-',label = \"SVM\")\n",
    "    plt.plot(list(range(10)), MLP, 'bo-',label = \"MLP\")\n",
    "    plt.xlabel('Times')\n",
    "    plt.ylabel('Accuracy')\n",
    "    plt.legend()\n",
    "    plt.show()\n",
    "    \n",
    "pltPlot(SVM, MLP)"
   ]
  },
  {
   "cell_type": "code",
   "execution_count": 10,
   "metadata": {},
   "outputs": [
    {
     "data": {
      "image/png": "[encoded data removed]",
      "text/plain": [
       "<matplotlib.figure.Figure at 0x1a1599f128>"
      ]
     },
     "metadata": {},
     "output_type": "display_data"
    }
   ],
   "source": [
    "def CompareOneTwo():\n",
    "    X, y = createTrainingSet()\n",
    "    oneList = []\n",
    "    twoList = []\n",
    "    for i in range(5):\n",
    "        testSetIndex = genR()\n",
    "        testX, testy = CreateTestSet(testSetIndex,X,y)\n",
    "        trainX, trainy = CreateTraintSet(testSetIndex,X,y)\n",
    "        clf = modelSVM(trainX,trainy)\n",
    "        pred = clf.predict(testX)\n",
    "        res = []\n",
    "        for i in range(len(pred)):\n",
    "            if pred[i] != testy[i]:\n",
    "                res.append(testy[i])\n",
    "        one = 0\n",
    "        two = 0\n",
    "        for i in res:\n",
    "            if i == 1:\n",
    "                one += 1\n",
    "            else:\n",
    "                two += 1\n",
    "\n",
    "        oneList.append(one)\n",
    "        twoList.append(two)\n",
    "    plt.plot([1,2,3,4,5], oneList, 'ro-',label = \"one\")\n",
    "    plt.plot([1,2,3,4,5], twoList, 'bo-',label = \"two\")\n",
    "    plt.legend()\n",
    "    plt.show()\n",
    "CompareOneTwo()"
   ]
  },
  {
   "cell_type": "code",
   "execution_count": null,
   "metadata": {},
   "outputs": [],
   "source": []
  },
  {
   "cell_type": "code",
   "execution_count": null,
   "metadata": {},
   "outputs": [],
   "source": []
  },
  {
   "cell_type": "code",
   "execution_count": 13,
   "metadata": {},
   "outputs": [
    {
     "name": "stdout",
     "output_type": "stream",
     "text": [
      "0.5022740364074707\n"
     ]
    }
   ],
   "source": [
    "testSetIndex = genR()\n",
    "testX, testy = CreateTestSet(testSetIndex,X,y)\n",
    "trainX, trainy = CreateTraintSet(testSetIndex,X,y)"
   ]
  },
  {
   "cell_type": "code",
   "execution_count": 95,
   "metadata": {},
   "outputs": [],
   "source": [
    "def timeSVM():\n",
    "    res = []\n",
    "    for i in range(10):\n",
    "        start = time()\n",
    "        model = modelSVM(trainX,trainy)\n",
    "        stop = time()\n",
    "        timeConsume = float(stop-start)\n",
    "        res.append(timeConsume)\n",
    "    return res\n",
    "\n",
    "def timeMLP():\n",
    "    res = []\n",
    "    for i in range(10):\n",
    "        start = time()\n",
    "        model = modelMLP(trainX,trainy,8)\n",
    "        stop = time()\n",
    "        timeConsume = float(stop-start)\n",
    "        res.append(timeConsume)\n",
    "    return res\n",
    "\n",
    "def numNandTimeMLP():\n",
    "    res = []\n",
    "    for i in range(1,100):\n",
    "        start = time()\n",
    "        model = modelMLP(trainX,trainy,i)\n",
    "        stop = time()\n",
    "        timeConsume = float(stop-start)\n",
    "        res.append(timeConsume)\n",
    "    return res\n",
    "\n",
    "def printNNTC():\n",
    "    time = numNandTimeMLP()\n",
    "    plt.plot(list(range(1,100)), time, 'b-')\n",
    "    plt.xlabel(\"The number of neuron in hidden layer\")\n",
    "    plt.ylabel(\"Second\")\n",
    "    plt.show()\n",
    "\n",
    "def NumInsTimeModel():\n",
    "    resSVM = []\n",
    "    resMLP = []\n",
    "    numIns = [2500,5000,7500,10000,12500,15000,17500,20000]\n",
    "    for i in numIns:\n",
    "        start = time()\n",
    "        modelSVM(trainX[:i],trainy[:i])\n",
    "        stop = time()\n",
    "        resSVM.append(float(stop-start))\n",
    "        start = time()\n",
    "        modelMLP(trainX[:i],trainy[:i],8)\n",
    "        stop = time()\n",
    "        resMLP.append(float(stop-start))\n",
    "    return resSVM, resMLP\n",
    "        \n",
    "\n",
    "   \n",
    "\n",
    "        \n",
    "        \n",
    "    "
   ]
  },
  {
   "cell_type": "code",
   "execution_count": 39,
   "metadata": {},
   "outputs": [
    {
     "data": {
      "image/png": "[encoded data removed]",
      "text/plain": [
       "<matplotlib.figure.Figure at 0x1a17692278>"
      ]
     },
     "metadata": {},
     "output_type": "display_data"
    }
   ],
   "source": [
    "printNNTC()"
   ]
  },
  {
   "cell_type": "code",
   "execution_count": 42,
   "metadata": {},
   "outputs": [],
   "source": [
    "svmModel, mlpModel = NumInsTimeModel()"
   ]
  },
  {
   "cell_type": "code",
   "execution_count": 70,
   "metadata": {},
   "outputs": [
    {
     "data": {
      "image/png": "[encoded data removed]",
      "text/plain": [
       "<matplotlib.figure.Figure at 0x1a172d0a90>"
      ]
     },
     "metadata": {},
     "output_type": "display_data"
    }
   ],
   "source": [
    "plt.figure(figsize=(5,4),dpi=90)\n",
    "plt.bar([2000,4500,7000,9500,12000,14500,17000,19500], svmModel, 1000, label = \"SVM\", fc = \"b\")\n",
    "plt.bar([3000,5500,8000,10500,13000,15500,18000,20500], mlpModel, 1000, label = \"MLP\", fc = \"r\")\n",
    "plt.plot([2000,4500,7000,9500,12000,14500,17000,19500],svmModel,'b-x')\n",
    "plt.plot([3000,5500,8000,10500,13000,15500,18000,20500],mlpModel,'r-x')\n",
    "plt.xlabel(\"The number of instance\")\n",
    "plt.ylabel(\"Second\")\n",
    "plt.title(\"The relationship between the number of training set and build model time\")\n",
    "plt.legend()\n",
    "plt.show()"
   ]
  },
  {
   "cell_type": "code",
   "execution_count": 103,
   "metadata": {},
   "outputs": [],
   "source": [
    "mSVM = modelSVM(trainX, trainy)\n",
    "mMLP = modelMLP(trainX, trainy,8)\n",
    "numIns = [250,500,750,1000,1250,1500,1750,2000]\n",
    "SVM__ = []\n",
    "MLP__ = []\n",
    "for i in numIns:\n",
    "    start = time()\n",
    "    mSVM.predict(testX[:i])\n",
    "    stop = time()\n",
    "    SVM__.append(float(stop - start))\n",
    "for i in numIns:\n",
    "    start = time()\n",
    "    mSVM.predict(testX[:i])\n",
    "    stop = time()\n",
    "    MLP__.append(float(stop - start))"
   ]
  },
  {
   "cell_type": "code",
   "execution_count": 106,
   "metadata": {},
   "outputs": [
    {
     "data": {
      "image/png": "[encoded data removed]",
      "text/plain": [
       "<matplotlib.figure.Figure at 0x1a1df2f5c0>"
      ]
     },
     "metadata": {},
     "output_type": "display_data"
    }
   ],
   "source": [
    "plt.figure(figsize=(5,4),dpi=90)\n",
    "plt.bar([200,450,700,950,1200,1450,1700,1950], SVM__, 100, label = \"SVM\", fc = \"b\")\n",
    "plt.bar([300,550,800,1050,1300,1550,1800,2050], MLP__, 100, label = \"MLP\", fc = \"r\")\n",
    "plt.plot([200,450,700,950,1200,1450,1700,1950],SVM__,'b-x')\n",
    "plt.plot([300,550,800,1050,1300,1550,1800,2050],MLP__,'r-x')\n",
    "plt.xlabel(\"The size of test set\")\n",
    "plt.ylabel(\"Second\")\n",
    "plt.title(\"The relationship between the size of test set and model prediction time\")\n",
    "plt.legend()\n",
    "plt.show()"
   ]
  },
  {
   "cell_type": "code",
   "execution_count": 102,
   "metadata": {},
   "outputs": [
    {
     "data": {
      "text/plain": [
       "[0.1118471622467041,\n",
       " 0.19872093200683594,\n",
       " 0.3052670955657959,\n",
       " 0.3730921745300293,\n",
       " 0.4815361499786377,\n",
       " 0.5519571304321289,\n",
       " 0.6289892196655273,\n",
       " 0.7348349094390869]"
      ]
     },
     "execution_count": 102,
     "metadata": {},
     "output_type": "execute_result"
    }
   ],
   "source": [
    "SVM__ "
   ]
  },
  {
   "cell_type": "code",
   "execution_count": 104,
   "metadata": {},
   "outputs": [
    {
     "data": {
      "text/plain": [
       "[0.1009979248046875,\n",
       " 0.2035539150238037,\n",
       " 0.3038620948791504,\n",
       " 0.40680384635925293,\n",
       " 0.5021450519561768,\n",
       " 0.6066679954528809,\n",
       " 0.7070868015289307,\n",
       " 0.8108370304107666]"
      ]
     },
     "execution_count": 104,
     "metadata": {},
     "output_type": "execute_result"
    }
   ],
   "source": [
    "MLP__"
   ]
  },
  {
   "cell_type": "code",
   "execution_count": null,
   "metadata": {},
   "outputs": [],
   "source": []
  }
 ],
 "metadata": {
  "kernelspec": {
   "display_name": "Python 3",
   "language": "python",
   "name": "python3"
  },
  "language_info": {
   "codemirror_mode": {
    "name": "ipython",
    "version": 3
   },
   "file_extension": ".py",
   "mimetype": "text/x-python",
   "name": "python",
   "nbconvert_exporter": "python",
   "pygments_lexer": "ipython3",
   "version": "3.7.3"
  }
 },
 "nbformat": 4,
 "nbformat_minor": 2
}
